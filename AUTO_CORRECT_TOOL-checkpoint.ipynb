{
 "cells": [
  {
   "cell_type": "code",
   "execution_count": null,
   "id": "60b720ea",
   "metadata": {},
   "outputs": [],
   "source": [
    "from spellchecker import SpellChecker\n",
    "spell=SpellChecker()\n",
    "\n",
    "while True:\n",
    "    print(\"********************AUTO_CORRECT_TOOL********************\")\n",
    "    text=input(\"enter a sentence to auto correct:\")\n",
    "    words=text.split()\n",
    "    corrected_words=[]\n",
    "    for word in words:\n",
    "        if not spell.unknown(word):\n",
    "            corrected_words.append(word)\n",
    "        else:\n",
    "            corrected_words.append(spell.correction(word))\n",
    "    corrected_text=' '.join(corrected_words)\n",
    "    print(corrected_text)\n",
    "                "
   ]
  }
 ],
 "metadata": {
  "kernelspec": {
   "display_name": "Python 3 (ipykernel)",
   "language": "python",
   "name": "python3"
  },
  "language_info": {
   "codemirror_mode": {
    "name": "ipython",
    "version": 3
   },
   "file_extension": ".py",
   "mimetype": "text/x-python",
   "name": "python",
   "nbconvert_exporter": "python",
   "pygments_lexer": "ipython3",
   "version": "3.11.3"
  }
 },
 "nbformat": 4,
 "nbformat_minor": 5
}
