{
 "cells": [
  {
   "cell_type": "code",
   "execution_count": null,
   "id": "60b720ea",
   "metadata": {},
   "outputs": [
    {
     "name": "stdout",
     "output_type": "stream",
     "text": [
      "********************AUTO_CORRECT_TOOL********************\n"
     ]
    }
   ],
   "source": [
    "from spellchecker import SpellChecker\n",
    "spell=SpellChecker()\n",
    "\n",
    "while True:\n",
    "    print(\"********************AUTO_CORRECT_TOOL********************\")\n",
    "    text=input(\"enter a sentence to auto correct:\")\n",
    "    words=text.split()\n",
    "    corrected_words=[]\n",
    "    for word in words:\n",
    "        if not spell.unknown(word):\n",
    "            corrected_words.append(word)\n",
    "        else:\n",
    "            corrected_words.append(spell.correction(word))\n",
    "    corrected_text=' '.join(corrected_words)\n",
    "    print(corrected_text)\n",
    "                "
   ]
  },
  {
   "cell_type": "code",
   "execution_count": null,
   "id": "855a8413",
   "metadata": {},
   "outputs": [],
   "source": []
  }
 ],
 "metadata": {
  "kernelspec": {
   "display_name": "Python 3 (ipykernel)",
   "language": "python",
   "name": "python3"
  },
  "language_info": {
   "codemirror_mode": {
    "name": "ipython",
    "version": 3
   },
   "file_extension": ".py",
   "mimetype": "text/x-python",
   "name": "python",
   "nbconvert_exporter": "python",
   "pygments_lexer": "ipython3",
   "version": "3.11.3"
  }
 },
 "nbformat": 4,
 "nbformat_minor": 5
}
